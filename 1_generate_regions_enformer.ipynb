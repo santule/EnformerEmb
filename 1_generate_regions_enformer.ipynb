{
 "cells": [
  {
   "cell_type": "markdown",
   "id": "81823988",
   "metadata": {},
   "source": [
    "Script to -\n",
    "* Define the genmore tiles /regions before processing it in the enformer.\n",
    "* Filter out for relevant chromosomes only\n",
    "* Add starting extra tile window for the regions not covered.\n",
    "* Remove duplicates in the regions.\n"
   ]
  },
  {
   "cell_type": "code",
   "execution_count": 1,
   "id": "1b0b5aac",
   "metadata": {},
   "outputs": [],
   "source": [
    "import csv\n",
    "import itertools"
   ]
  },
  {
   "cell_type": "code",
   "execution_count": 2,
   "id": "102a7ac4",
   "metadata": {},
   "outputs": [
    {
     "name": "stdout",
     "output_type": "stream",
     "text": [
      "mkdir: data/: File exists\r\n"
     ]
    }
   ],
   "source": [
    "out_dir = 'data/'\n",
    "!mkdir {out_dir}\n",
    "window_size = 196608 \n",
    "step_size_int = 114688\n",
    "coverage = 1"
   ]
  },
  {
   "cell_type": "markdown",
   "id": "de3cd787",
   "metadata": {},
   "source": [
    "### Get the chromosomes sizes"
   ]
  },
  {
   "cell_type": "code",
   "execution_count": 3,
   "id": "ec5b4783",
   "metadata": {},
   "outputs": [
    {
     "name": "stdout",
     "output_type": "stream",
     "text": [
      "--2024-06-26 13:27:22--  https://hgdownload.cse.ucsc.edu/goldenpath/hg38/bigZips/hg38.chrom.sizes\n",
      "Resolving hgdownload.cse.ucsc.edu (hgdownload.cse.ucsc.edu)... 128.114.119.163\n",
      "Connecting to hgdownload.cse.ucsc.edu (hgdownload.cse.ucsc.edu)|128.114.119.163|:443... connected.\n",
      "HTTP request sent, awaiting response... 200 OK\n",
      "Length: 11672 (11K)\n",
      "Saving to: ‘data/hg38.chrom.sizes’\n",
      "\n",
      "data/hg38.chrom.siz 100%[===================>]  11.40K  --.-KB/s    in 0s      \n",
      "\n",
      "2024-06-26 13:27:23 (27.9 MB/s) - ‘data/hg38.chrom.sizes’ saved [11672/11672]\n",
      "\n"
     ]
    }
   ],
   "source": [
    "!wget https://hgdownload.cse.ucsc.edu/goldenpath/hg38/bigZips/hg38.chrom.sizes -O {out_dir}hg38.chrom.sizes"
   ]
  },
  {
   "cell_type": "markdown",
   "id": "6afed6e8",
   "metadata": {},
   "source": [
    "### BED TOOLS for tiling"
   ]
  },
  {
   "cell_type": "code",
   "execution_count": 4,
   "id": "c0449dcc",
   "metadata": {},
   "outputs": [],
   "source": [
    "!bedtools makewindows -g {out_dir}hg38.chrom.sizes -w {window_size} -s {step_size_int} > {out_dir}hg38.{window_size}-{coverage}X.windows.bed"
   ]
  },
  {
   "cell_type": "code",
   "execution_count": 5,
   "id": "e139516a",
   "metadata": {},
   "outputs": [
    {
     "name": "stdout",
     "output_type": "stream",
     "text": [
      "   28249 data/hg38.196608-1X.windows.bed\n",
      "chr1\t0\t196608\n",
      "chr1\t114688\t311296\n",
      "chr1\t229376\t425984\n",
      "chr1\t344064\t540672\n",
      "chr1\t458752\t655360\n",
      "chr1\t573440\t770048\n",
      "chr1\t688128\t884736\n",
      "chr1\t802816\t999424\n",
      "chr1\t917504\t1114112\n",
      "chr1\t1032192\t1228800\n"
     ]
    }
   ],
   "source": [
    "!wc -l {out_dir}hg38.{window_size}-{coverage}X.windows.bed\n",
    "!head {out_dir}hg38.{window_size}-{coverage}X.windows.bed"
   ]
  },
  {
   "cell_type": "code",
   "execution_count": 6,
   "id": "ac42b356",
   "metadata": {},
   "outputs": [
    {
     "name": "stdout",
     "output_type": "stream",
     "text": [
      "0.028249 million regions\n"
     ]
    }
   ],
   "source": [
    "print(28249 / (10**6), 'million regions')"
   ]
  },
  {
   "cell_type": "markdown",
   "id": "760d3f74",
   "metadata": {},
   "source": [
    "### Filter out the chromosomes"
   ]
  },
  {
   "cell_type": "code",
   "execution_count": 7,
   "id": "00882ab7",
   "metadata": {},
   "outputs": [],
   "source": [
    "# filter to keep chromosome level assemblies\n",
    "keep_chrs = ['chr1', 'chr10', 'chr11', 'chr12', 'chr13', 'chr14', 'chr15', 'chr16', 'chr17', 'chr18', 'chr19', \n",
    "             'chr2', 'chr20', 'chr21', 'chr22', \n",
    "             'chr3', 'chr4', 'chr5', 'chr6', 'chr7', 'chr8', 'chr9', 'chrM', 'chrX', 'chrY']\n",
    "\n",
    "# Adding to a text file.\n",
    "chrs_file = open(f\"{out_dir}allowed_chroms.txt\", 'w')\n",
    "[chrs_file.write(chr_+'\\n') for chr_ in keep_chrs]\n",
    "chrs_file.close()\n",
    "# !cat {out_dir}allowed_chroms.txt"
   ]
  },
  {
   "cell_type": "code",
   "execution_count": 8,
   "id": "7e508fe1",
   "metadata": {},
   "outputs": [],
   "source": [
    "!grep -Fwf {out_dir}allowed_chroms.txt {out_dir}hg38.{window_size}-{coverage}X.windows.bed > {out_dir}hg38.{window_size}-{coverage}X.windows.fixed.bed"
   ]
  },
  {
   "cell_type": "code",
   "execution_count": 9,
   "id": "cb3ef928",
   "metadata": {},
   "outputs": [
    {
     "name": "stdout",
     "output_type": "stream",
     "text": [
      "   26940 data/hg38.196608-1X.windows.fixed.bed\r\n"
     ]
    }
   ],
   "source": [
    "!wc -l {out_dir}hg38.{window_size}-{coverage}X.windows.fixed.bed"
   ]
  },
  {
   "cell_type": "code",
   "execution_count": 10,
   "id": "1496bf4e",
   "metadata": {},
   "outputs": [
    {
     "name": "stdout",
     "output_type": "stream",
     "text": [
      "chr1\r\n",
      "chr10\r\n",
      "chr11\r\n",
      "chr12\r\n",
      "chr13\r\n",
      "chr14\r\n",
      "chr15\r\n",
      "chr16\r\n",
      "chr17\r\n",
      "chr18\r\n",
      "chr19\r\n",
      "chr2\r\n",
      "chr20\r\n",
      "chr21\r\n",
      "chr22\r\n",
      "chr3\r\n",
      "chr4\r\n",
      "chr5\r\n",
      "chr6\r\n",
      "chr7\r\n",
      "chr8\r\n",
      "chr9\r\n",
      "chrM\r\n",
      "chrX\r\n",
      "chrY\r\n"
     ]
    }
   ],
   "source": [
    "awk_str = \"awk -F'\\t' '{print $1}'\"\n",
    "!{awk_str} {out_dir}hg38.{window_size}-{coverage}X.windows.fixed.bed | sort | uniq"
   ]
  },
  {
   "cell_type": "markdown",
   "id": "d3656af1",
   "metadata": {},
   "source": [
    "### Manual adjustment for enformer input requirements"
   ]
  },
  {
   "cell_type": "code",
   "execution_count": 11,
   "id": "b35b0294",
   "metadata": {},
   "outputs": [
    {
     "name": "stdout",
     "output_type": "stream",
     "text": [
      "Am Short ['chr1', '248872960', '248956422']\n",
      "Am Short ['chr2', '242106368', '242193529']\n",
      "Am Short ['chr3', '198180864', '198295559']\n",
      "Am Short ['chr3', '198295552', '198295559']\n",
      "Am Short ['chr4', '190152704', '190214555']\n",
      "Am Short ['chr5', '181436416', '181538259']\n",
      "Am Short ['chr6', '170655744', '170805979']\n",
      "Am Short ['chr6', '170770432', '170805979']\n",
      "Am Short ['chr7', '159301632', '159345973']\n",
      "Am Short ['chrX', '155975680', '156040895']\n",
      "Am Short ['chr8', '145080320', '145138636']\n",
      "Am Short ['chr9', '138313728', '138394717']\n",
      "Am Short ['chr11', '134987776', '135086622']\n",
      "Am Short ['chr10', '133726208', '133797422']\n",
      "Am Short ['chr12', '133152768', '133275309']\n",
      "Am Short ['chr12', '133267456', '133275309']\n",
      "Am Short ['chr13', '114229248', '114364328']\n",
      "Am Short ['chr13', '114343936', '114364328']\n",
      "Am Short ['chr14', '106889216', '107043718']\n",
      "Am Short ['chr14', '107003904', '107043718']\n",
      "Am Short ['chr15', '101842944', '101991189']\n",
      "Am Short ['chr15', '101957632', '101991189']\n",
      "Am Short ['chr16', '90259456', '90338345']\n",
      "Am Short ['chr17', '83148800', '83257441']\n",
      "Am Short ['chr18', '80281600', '80373285']\n",
      "Am Short ['chr20', '64339968', '64444167']\n",
      "Am Short ['chr19', '58490880', '58617616']\n",
      "Am Short ['chr19', '58605568', '58617616']\n",
      "Am Short ['chrY', '57114624', '57227415']\n",
      "Am Short ['chr22', '50692096', '50818468']\n",
      "Am Short ['chr22', '50806784', '50818468']\n",
      "Am Short ['chr21', '46563328', '46709983']\n",
      "Am Short ['chr21', '46678016', '46709983']\n",
      "   26955 data/hg38.196608-1X.windows.fixed1.bed\n"
     ]
    }
   ],
   "source": [
    "# add manual regions for the start of the genome which would be missed by enformer and adjust end regions\n",
    "enformer_input_seq_length = 196608\n",
    "enformer_embed_length     = 114688\n",
    "enformer_add_pad          = 40960\n",
    "enformer_one_sided = enformer_embed_length + enformer_add_pad\n",
    "\n",
    "regions = []\n",
    "\n",
    "# 1 - add extra start regions\n",
    "for c in keep_chrs:\n",
    "    if c != 'chrM': \n",
    "        regions.append([c,0,enformer_embed_length + enformer_add_pad])\n",
    "\n",
    "# 2 - adjust the tail ends\n",
    "with open(f'{out_dir}hg38.{window_size}-{coverage}X.windows.fixed.bed')as f:\n",
    "    \n",
    "    for line in f:\n",
    "        line_data = line.strip().split()\n",
    "        \n",
    "        if (line_data[0] != 'chrM') and (int(line_data[2]) - int(line_data[1]) < enformer_input_seq_length):\n",
    "            \n",
    "            print(f\"Am Short {line_data}\")\n",
    "            chr_start   = int(line_data[2]) - (enformer_embed_length + enformer_add_pad)\n",
    "            chr_start_2 = int(line_data[2]) - (enformer_embed_length + enformer_add_pad + enformer_add_pad)\n",
    "            regions.append([line_data[0],int(chr_start_2),int(line_data[2])])\n",
    "        else:\n",
    "            chr_start = line_data[1]\n",
    "            \n",
    "        regions.append([line_data[0],int(chr_start),int(line_data[2])])\n",
    "\n",
    "# 3 - remove duplicates adjusting tail ends generates duplicates\n",
    "regions.sort()\n",
    "regions = list(regions for regions,_ in itertools.groupby(regions))\n",
    "\n",
    "# 4 - save it back in the bed file\n",
    "with open(f'{out_dir}hg38.{window_size}-{coverage}X.windows.fixed1.bed', 'w', newline='') as f:\n",
    "    writer = csv.writer(f, delimiter='\\t')\n",
    "    writer.writerows(regions)\n",
    "    \n",
    "!wc -l {out_dir}hg38.{window_size}-{coverage}X.windows.fixed1.bed"
   ]
  }
 ],
 "metadata": {
  "kernelspec": {
   "display_name": "Python 3 (ipykernel)",
   "language": "python",
   "name": "python3"
  },
  "language_info": {
   "codemirror_mode": {
    "name": "ipython",
    "version": 3
   },
   "file_extension": ".py",
   "mimetype": "text/x-python",
   "name": "python",
   "nbconvert_exporter": "python",
   "pygments_lexer": "ipython3",
   "version": "3.9.7"
  }
 },
 "nbformat": 4,
 "nbformat_minor": 5
}
